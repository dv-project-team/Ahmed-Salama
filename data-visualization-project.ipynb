{
 "cells": [
  {
   "cell_type": "code",
   "execution_count": 1,
   "id": "f7c02339",
   "metadata": {
    "_cell_guid": "b1076dfc-b9ad-4769-8c92-a6c4dae69d19",
    "_uuid": "8f2839f25d086af736a60e9eeb907d3b93b6e0e5",
    "execution": {
     "iopub.execute_input": "2023-12-18T11:12:29.401856Z",
     "iopub.status.busy": "2023-12-18T11:12:29.401475Z",
     "iopub.status.idle": "2023-12-18T11:12:31.371587Z",
     "shell.execute_reply": "2023-12-18T11:12:31.370446Z"
    },
    "papermill": {
     "duration": 1.979816,
     "end_time": "2023-12-18T11:12:31.374416",
     "exception": false,
     "start_time": "2023-12-18T11:12:29.394600",
     "status": "completed"
    },
    "tags": []
   },
   "outputs": [],
   "source": [
    "import numpy as np\n",
    "import pandas as pd\n",
    "import matplotlib.pyplot as plt\n",
    "import seaborn as sns"
   ]
  },
  {
   "cell_type": "code",
   "execution_count": null,
   "id": "161ab9c1",
   "metadata": {
    "papermill": {
     "duration": 0.00433,
     "end_time": "2023-12-18T11:12:31.383799",
     "exception": false,
     "start_time": "2023-12-18T11:12:31.379469",
     "status": "completed"
    },
    "tags": []
   },
   "outputs": [],
   "source": []
  },
  {
   "cell_type": "code",
   "execution_count": null,
   "id": "c8c260cd",
   "metadata": {
    "papermill": {
     "duration": 0.004363,
     "end_time": "2023-12-18T11:12:31.392745",
     "exception": false,
     "start_time": "2023-12-18T11:12:31.388382",
     "status": "completed"
    },
    "tags": []
   },
   "outputs": [],
   "source": []
  },
  {
   "cell_type": "code",
   "execution_count": 2,
   "id": "b87bee73",
   "metadata": {
    "execution": {
     "iopub.execute_input": "2023-12-18T11:12:31.404411Z",
     "iopub.status.busy": "2023-12-18T11:12:31.403833Z",
     "iopub.status.idle": "2023-12-18T11:12:31.851901Z",
     "shell.execute_reply": "2023-12-18T11:12:31.850598Z"
    },
    "papermill": {
     "duration": 0.457159,
     "end_time": "2023-12-18T11:12:31.854674",
     "exception": false,
     "start_time": "2023-12-18T11:12:31.397515",
     "status": "completed"
    },
    "tags": []
   },
   "outputs": [
    {
     "data": {
      "text/html": [
       "<div>\n",
       "<style scoped>\n",
       "    .dataframe tbody tr th:only-of-type {\n",
       "        vertical-align: middle;\n",
       "    }\n",
       "\n",
       "    .dataframe tbody tr th {\n",
       "        vertical-align: top;\n",
       "    }\n",
       "\n",
       "    .dataframe thead th {\n",
       "        text-align: right;\n",
       "    }\n",
       "</style>\n",
       "<table border=\"1\" class=\"dataframe\">\n",
       "  <thead>\n",
       "    <tr style=\"text-align: right;\">\n",
       "      <th></th>\n",
       "      <th>Unnamed: 0</th>\n",
       "      <th>mark</th>\n",
       "      <th>model</th>\n",
       "      <th>generation_name</th>\n",
       "      <th>year</th>\n",
       "      <th>mileage</th>\n",
       "      <th>vol_engine</th>\n",
       "      <th>fuel</th>\n",
       "      <th>city</th>\n",
       "      <th>province</th>\n",
       "      <th>price</th>\n",
       "    </tr>\n",
       "  </thead>\n",
       "  <tbody>\n",
       "    <tr>\n",
       "      <th>0</th>\n",
       "      <td>0</td>\n",
       "      <td>opel</td>\n",
       "      <td>combo</td>\n",
       "      <td>gen-d-2011</td>\n",
       "      <td>2015</td>\n",
       "      <td>139568</td>\n",
       "      <td>1248</td>\n",
       "      <td>Diesel</td>\n",
       "      <td>Janki</td>\n",
       "      <td>Mazowieckie</td>\n",
       "      <td>35900</td>\n",
       "    </tr>\n",
       "    <tr>\n",
       "      <th>1</th>\n",
       "      <td>1</td>\n",
       "      <td>opel</td>\n",
       "      <td>combo</td>\n",
       "      <td>gen-d-2011</td>\n",
       "      <td>2018</td>\n",
       "      <td>31991</td>\n",
       "      <td>1499</td>\n",
       "      <td>Diesel</td>\n",
       "      <td>Katowice</td>\n",
       "      <td>Śląskie</td>\n",
       "      <td>78501</td>\n",
       "    </tr>\n",
       "    <tr>\n",
       "      <th>2</th>\n",
       "      <td>2</td>\n",
       "      <td>opel</td>\n",
       "      <td>combo</td>\n",
       "      <td>gen-d-2011</td>\n",
       "      <td>2015</td>\n",
       "      <td>278437</td>\n",
       "      <td>1598</td>\n",
       "      <td>Diesel</td>\n",
       "      <td>Brzeg</td>\n",
       "      <td>Opolskie</td>\n",
       "      <td>27000</td>\n",
       "    </tr>\n",
       "    <tr>\n",
       "      <th>3</th>\n",
       "      <td>3</td>\n",
       "      <td>opel</td>\n",
       "      <td>combo</td>\n",
       "      <td>gen-d-2011</td>\n",
       "      <td>2016</td>\n",
       "      <td>47600</td>\n",
       "      <td>1248</td>\n",
       "      <td>Diesel</td>\n",
       "      <td>Korfantów</td>\n",
       "      <td>Opolskie</td>\n",
       "      <td>30800</td>\n",
       "    </tr>\n",
       "    <tr>\n",
       "      <th>4</th>\n",
       "      <td>4</td>\n",
       "      <td>opel</td>\n",
       "      <td>combo</td>\n",
       "      <td>gen-d-2011</td>\n",
       "      <td>2014</td>\n",
       "      <td>103000</td>\n",
       "      <td>1400</td>\n",
       "      <td>CNG</td>\n",
       "      <td>Tarnowskie Góry</td>\n",
       "      <td>Śląskie</td>\n",
       "      <td>35900</td>\n",
       "    </tr>\n",
       "  </tbody>\n",
       "</table>\n",
       "</div>"
      ],
      "text/plain": [
       "   Unnamed: 0  mark  model generation_name  year  mileage  vol_engine    fuel  \\\n",
       "0           0  opel  combo      gen-d-2011  2015   139568        1248  Diesel   \n",
       "1           1  opel  combo      gen-d-2011  2018    31991        1499  Diesel   \n",
       "2           2  opel  combo      gen-d-2011  2015   278437        1598  Diesel   \n",
       "3           3  opel  combo      gen-d-2011  2016    47600        1248  Diesel   \n",
       "4           4  opel  combo      gen-d-2011  2014   103000        1400     CNG   \n",
       "\n",
       "              city     province  price  \n",
       "0            Janki  Mazowieckie  35900  \n",
       "1         Katowice      Śląskie  78501  \n",
       "2            Brzeg     Opolskie  27000  \n",
       "3        Korfantów     Opolskie  30800  \n",
       "4  Tarnowskie Góry      Śląskie  35900  "
      ]
     },
     "execution_count": 2,
     "metadata": {},
     "output_type": "execute_result"
    }
   ],
   "source": [
    "df = pd.read_csv('/kaggle/input/car-prices-poland/Car_Prices_Poland_Kaggle.csv')\n",
    "df.head()"
   ]
  },
  {
   "cell_type": "code",
   "execution_count": 3,
   "id": "8429a85c",
   "metadata": {
    "execution": {
     "iopub.execute_input": "2023-12-18T11:12:31.866625Z",
     "iopub.status.busy": "2023-12-18T11:12:31.866228Z",
     "iopub.status.idle": "2023-12-18T11:12:31.946927Z",
     "shell.execute_reply": "2023-12-18T11:12:31.945871Z"
    },
    "papermill": {
     "duration": 0.089777,
     "end_time": "2023-12-18T11:12:31.949599",
     "exception": false,
     "start_time": "2023-12-18T11:12:31.859822",
     "status": "completed"
    },
    "tags": []
   },
   "outputs": [
    {
     "data": {
      "text/plain": [
       "Unnamed: 0             0\n",
       "mark                   0\n",
       "model                  0\n",
       "generation_name    30085\n",
       "year                   0\n",
       "mileage                0\n",
       "vol_engine             0\n",
       "fuel                   0\n",
       "city                   0\n",
       "province               0\n",
       "price                  0\n",
       "dtype: int64"
      ]
     },
     "execution_count": 3,
     "metadata": {},
     "output_type": "execute_result"
    }
   ],
   "source": [
    "# 1. Dealing with Missing Values\n",
    "df.isnull().sum()  # Check the number of missing values "
   ]
  },
  {
   "cell_type": "code",
   "execution_count": 4,
   "id": "70c2201b",
   "metadata": {
    "execution": {
     "iopub.execute_input": "2023-12-18T11:12:31.961729Z",
     "iopub.status.busy": "2023-12-18T11:12:31.961277Z",
     "iopub.status.idle": "2023-12-18T11:12:31.965795Z",
     "shell.execute_reply": "2023-12-18T11:12:31.964591Z"
    },
    "papermill": {
     "duration": 0.013207,
     "end_time": "2023-12-18T11:12:31.968143",
     "exception": false,
     "start_time": "2023-12-18T11:12:31.954936",
     "status": "completed"
    },
    "tags": []
   },
   "outputs": [],
   "source": [
    "# 2. Figuring out why the data is missing\n",
    "#Because all car dont require has generation_name"
   ]
  },
  {
   "cell_type": "code",
   "execution_count": 5,
   "id": "a55c1407",
   "metadata": {
    "execution": {
     "iopub.execute_input": "2023-12-18T11:12:31.980472Z",
     "iopub.status.busy": "2023-12-18T11:12:31.980042Z",
     "iopub.status.idle": "2023-12-18T11:12:32.005064Z",
     "shell.execute_reply": "2023-12-18T11:12:32.003760Z"
    },
    "papermill": {
     "duration": 0.034527,
     "end_time": "2023-12-18T11:12:32.008137",
     "exception": false,
     "start_time": "2023-12-18T11:12:31.973610",
     "status": "completed"
    },
    "tags": []
   },
   "outputs": [],
   "source": [
    "# 3. Eliminating extra variables\n",
    "df = df.drop(['generation_name'], axis=1)"
   ]
  },
  {
   "cell_type": "code",
   "execution_count": 6,
   "id": "5ee64533",
   "metadata": {
    "execution": {
     "iopub.execute_input": "2023-12-18T11:12:32.020707Z",
     "iopub.status.busy": "2023-12-18T11:12:32.020320Z",
     "iopub.status.idle": "2023-12-18T11:12:32.464945Z",
     "shell.execute_reply": "2023-12-18T11:12:32.463720Z"
    },
    "papermill": {
     "duration": 0.453904,
     "end_time": "2023-12-18T11:12:32.467549",
     "exception": false,
     "start_time": "2023-12-18T11:12:32.013645",
     "status": "completed"
    },
    "tags": []
   },
   "outputs": [
    {
     "data": {
      "image/png": "[encoded data removed]",
      "text/plain": [
       "<Figure size 1000x600 with 1 Axes>"
      ]
     },
     "metadata": {},
     "output_type": "display_data"
    }
   ],
   "source": [
    "#4. Detecting and removing outliers using box plot\n",
    "plt.figure(figsize=(10, 6))\n",
    "sns.boxplot(data=df[['mileage', 'vol_engine', 'price']])\n",
    "plt.show()"
   ]
  },
  {
   "cell_type": "code",
   "execution_count": 7,
   "id": "d53e82de",
   "metadata": {
    "execution": {
     "iopub.execute_input": "2023-12-18T11:12:32.480885Z",
     "iopub.status.busy": "2023-12-18T11:12:32.480257Z",
     "iopub.status.idle": "2023-12-18T11:12:32.512853Z",
     "shell.execute_reply": "2023-12-18T11:12:32.511641Z"
    },
    "papermill": {
     "duration": 0.042197,
     "end_time": "2023-12-18T11:12:32.515414",
     "exception": false,
     "start_time": "2023-12-18T11:12:32.473217",
     "status": "completed"
    },
    "tags": []
   },
   "outputs": [],
   "source": [
    "# Remove outliers using z-score\n",
    "from scipy import stats\n",
    "df = df[(np.abs(stats.zscore(df[['mileage', 'vol_engine', 'price']])) < 3).all(axis=1)]"
   ]
  },
  {
   "cell_type": "code",
   "execution_count": 8,
   "id": "2d5c8b01",
   "metadata": {
    "execution": {
     "iopub.execute_input": "2023-12-18T11:12:32.529051Z",
     "iopub.status.busy": "2023-12-18T11:12:32.528623Z",
     "iopub.status.idle": "2023-12-18T11:12:32.721194Z",
     "shell.execute_reply": "2023-12-18T11:12:32.719997Z"
    },
    "papermill": {
     "duration": 0.202861,
     "end_time": "2023-12-18T11:12:32.724375",
     "exception": false,
     "start_time": "2023-12-18T11:12:32.521514",
     "status": "completed"
    },
    "tags": []
   },
   "outputs": [
    {
     "name": "stdout",
     "output_type": "stream",
     "text": [
      "        Unnamed: 0   mark  model  year   mileage  vol_engine      fuel  \\\n",
      "0                0   opel  combo  2015  0.333895    0.334495    Diesel   \n",
      "1                1   opel  combo  2018  0.076533    0.401769    Diesel   \n",
      "2                2   opel  combo  2015  0.666117    0.428303    Diesel   \n",
      "3                3   opel  combo  2016  0.113876    0.334495    Diesel   \n",
      "4                4   opel  combo  2014  0.246411    0.375235       CNG   \n",
      "...            ...    ...    ...   ...       ...         ...       ...   \n",
      "117922      117922  volvo  xc-90  2020  0.095694    0.527741    Hybrid   \n",
      "117923      117923  volvo  xc-90  2017  0.122010    0.527741    Diesel   \n",
      "117924      117924  volvo  xc-90  2016  0.199761    0.527741  Gasoline   \n",
      "117925      117925  volvo  xc-90  2017  0.416268    0.527741    Diesel   \n",
      "117926      117926  volvo  xc-90  2016  0.452201    0.527741  Gasoline   \n",
      "\n",
      "                    city       province     price  \n",
      "0                  Janki    Mazowieckie  0.109181  \n",
      "1               Katowice        Śląskie  0.240572  \n",
      "2                  Brzeg       Opolskie  0.081732  \n",
      "3              Korfantów       Opolskie  0.093452  \n",
      "4        Tarnowskie Góry        Śląskie  0.109181  \n",
      "...                  ...            ...       ...  \n",
      "117922          Katowice        Śląskie  0.685589  \n",
      "117923  Chechło Pierwsze        Łódzkie  0.707518  \n",
      "117924   Pruszcz Gdański      Pomorskie  0.414826  \n",
      "117925            Kalisz  Wielkopolskie  0.474969  \n",
      "117926            Sionna    Mazowieckie  0.399405  \n",
      "\n",
      "[113274 rows x 10 columns]\n"
     ]
    }
   ],
   "source": [
    "#5- Scaling and Normalization.\n",
    "from sklearn.preprocessing import MinMaxScaler\n",
    "columns_to_scale = [ 'mileage', 'vol_engine', 'price']\n",
    "# Create a MinMaxScaler object\n",
    "scaler = MinMaxScaler()\n",
    "# Fit and transform the selected columns\n",
    "df[columns_to_scale] = scaler.fit_transform(df[columns_to_scale])\n",
    "# Print the scaled and normalized dataset\n",
    "print(df)"
   ]
  },
  {
   "cell_type": "code",
   "execution_count": 9,
   "id": "439199b5",
   "metadata": {
    "execution": {
     "iopub.execute_input": "2023-12-18T11:12:32.737810Z",
     "iopub.status.busy": "2023-12-18T11:12:32.737419Z",
     "iopub.status.idle": "2023-12-18T11:12:33.015202Z",
     "shell.execute_reply": "2023-12-18T11:12:33.013362Z"
    },
    "papermill": {
     "duration": 0.288578,
     "end_time": "2023-12-18T11:12:33.018784",
     "exception": false,
     "start_time": "2023-12-18T11:12:32.730206",
     "status": "completed"
    },
    "tags": []
   },
   "outputs": [
    {
     "name": "stdout",
     "output_type": "stream",
     "text": [
      "        Unnamed: 0   mark  model  year   mileage  vol_engine      fuel  \\\n",
      "0                0   opel  combo  2015  0.333895    0.334495    Diesel   \n",
      "1                1   opel  combo  2018  0.076533    0.401769    Diesel   \n",
      "2                2   opel  combo  2015  0.666117    0.428303    Diesel   \n",
      "3                3   opel  combo  2016  0.113876    0.334495    Diesel   \n",
      "4                4   opel  combo  2014  0.246411    0.375235       CNG   \n",
      "...            ...    ...    ...   ...       ...         ...       ...   \n",
      "117922      117922  volvo  xc-90  2020  0.095694    0.527741    Hybrid   \n",
      "117923      117923  volvo  xc-90  2017  0.122010    0.527741    Diesel   \n",
      "117924      117924  volvo  xc-90  2016  0.199761    0.527741  Gasoline   \n",
      "117925      117925  volvo  xc-90  2017  0.416268    0.527741    Diesel   \n",
      "117926      117926  volvo  xc-90  2016  0.452201    0.527741  Gasoline   \n",
      "\n",
      "                    city       province     price  \n",
      "0                  Janki    Mazowieckie  0.109181  \n",
      "1               Katowice        Śląskie  0.240572  \n",
      "2                  Brzeg       Opolskie  0.081732  \n",
      "3              Korfantów       Opolskie  0.093452  \n",
      "4        Tarnowskie Góry        Śląskie  0.109181  \n",
      "...                  ...            ...       ...  \n",
      "117922          Katowice        Śląskie  0.685589  \n",
      "117923  Chechło Pierwsze        Łódzkie  0.707518  \n",
      "117924   Pruszcz Gdański      Pomorskie  0.414826  \n",
      "117925            Kalisz  Wielkopolskie  0.474969  \n",
      "117926            Sionna    Mazowieckie  0.399405  \n",
      "\n",
      "[113274 rows x 10 columns]\n"
     ]
    }
   ],
   "source": [
    "# 6. Eliminating blank spaces or missing information \n",
    "df['mark'] = df['mark'].str.strip()\n",
    "df['model'] = df['model'].str.strip()\n",
    "df['fuel'] = df['fuel'].str.strip()\n",
    "df['city'] = df['city'].str.strip()\n",
    "df['province'] = df['province'].str.strip()\n",
    "print(df)"
   ]
  },
  {
   "cell_type": "code",
   "execution_count": 10,
   "id": "2ef5f505",
   "metadata": {
    "execution": {
     "iopub.execute_input": "2023-12-18T11:12:33.032589Z",
     "iopub.status.busy": "2023-12-18T11:12:33.032168Z",
     "iopub.status.idle": "2023-12-18T11:12:33.075705Z",
     "shell.execute_reply": "2023-12-18T11:12:33.074199Z"
    },
    "papermill": {
     "duration": 0.053507,
     "end_time": "2023-12-18T11:12:33.078320",
     "exception": false,
     "start_time": "2023-12-18T11:12:33.024813",
     "status": "completed"
    },
    "tags": []
   },
   "outputs": [
    {
     "name": "stdout",
     "output_type": "stream",
     "text": [
      "        Unnamed: 0    mark    model  year   mileage  vol_engine      fuel  \\\n",
      "84888        84888    fiat      500  1945  0.162679    0.134012  Gasoline   \n",
      "46958        46958    ford     f150  1952  0.002392    0.992763  Gasoline   \n",
      "54239        54239    ford  mustang  1965  0.232057    0.884481  Gasoline   \n",
      "54005        54005    ford  mustang  1966  0.159488    0.884481  Gasoline   \n",
      "84723        84723    fiat      500  1967  0.188995    0.134012  Gasoline   \n",
      "...            ...     ...      ...   ...       ...         ...       ...   \n",
      "22566        22566    audi       q5  2022  0.000012    0.527473    Diesel   \n",
      "22565        22565    audi       q5  2022  0.000012    0.527473    Diesel   \n",
      "22564        22564    audi       q5  2022  0.000012    0.527473    Diesel   \n",
      "101382      101382    mini      one  2022  0.000012    0.401769  Gasoline   \n",
      "71723        71723  toyota     c-hr  2022  0.000002    0.532565    Hybrid   \n",
      "\n",
      "             city            province     price  \n",
      "84888      Kielce      Świętokrzyskie  0.124602  \n",
      "46958    Koszalin  Zachodniopomorskie  0.460781  \n",
      "54239      Olesno            Opolskie  0.181968  \n",
      "54005      Lublin           Lubelskie  0.198932  \n",
      "84723    Tokarnia      Świętokrzyskie  0.131079  \n",
      "...           ...                 ...       ...  \n",
      "22566        Łódź             Łódzkie  0.728182  \n",
      "22565        Łódź             Łódzkie  0.786165  \n",
      "22564        Łódź             Łódzkie  0.772903  \n",
      "101382  Białystok           Podlaskie  0.340805  \n",
      "71723   Sosnowiec             Śląskie  0.409682  \n",
      "\n",
      "[113274 rows x 10 columns]\n"
     ]
    }
   ],
   "source": [
    "# 7. Arranging the data logically and sequentially\n",
    "df = df.sort_values(by='year')\n",
    "print(df)"
   ]
  }
 ],
 "metadata": {
  "kaggle": {
   "accelerator": "none",
   "dataSources": [
    {
     "datasetId": 1878058,
     "sourceId": 3068013,
     "sourceType": "datasetVersion"
    }
   ],
   "dockerImageVersionId": 30626,
   "isGpuEnabled": false,
   "isInternetEnabled": false,
   "language": "python",
   "sourceType": "notebook"
  },
  "kernelspec": {
   "display_name": "Python 3",
   "language": "python",
   "name": "python3"
  },
  "language_info": {
   "codemirror_mode": {
    "name": "ipython",
    "version": 3
   },
   "file_extension": ".py",
   "mimetype": "text/x-python",
   "name": "python",
   "nbconvert_exporter": "python",
   "pygments_lexer": "ipython3",
   "version": "3.10.12"
  },
  "papermill": {
   "default_parameters": {},
   "duration": 7.854102,
   "end_time": "2023-12-18T11:12:33.705445",
   "environment_variables": {},
   "exception": null,
   "input_path": "__notebook__.ipynb",
   "output_path": "__notebook__.ipynb",
   "parameters": {},
   "start_time": "2023-12-18T11:12:25.851343",
   "version": "2.4.0"
  }
 },
 "nbformat": 4,
 "nbformat_minor": 5
}
